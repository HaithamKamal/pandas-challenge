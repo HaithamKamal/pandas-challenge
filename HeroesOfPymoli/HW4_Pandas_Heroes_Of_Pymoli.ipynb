{
 "cells": [
  {
   "cell_type": "code",
   "execution_count": null,
   "metadata": {
    "scrolled": true
   },
   "outputs": [],
   "source": [
    "#Dependencies and Setup\n",
    "import pandas as pd\n",
    "import numpy as np\n",
    "\n",
    "#File to Load (Remember to Change These)\n",
    "file_to_load = \"Resources/purchase_data.csv\"\n",
    "\n",
    "#Read Purchasing File and store into Pandas data frame\n",
    "purchase_data = pd.read_csv(file_to_load)\n",
    "\n",
    "purchase_data.head()"
   ]
  },
  {
   "cell_type": "code",
   "execution_count": null,
   "metadata": {},
   "outputs": [],
   "source": [
    "#Player count\n",
    "\n",
    "player_demographics = purchase_data.loc[:, [\"Gender\", \"SN\", \"Age\"]]\n",
    "player_demographics = player_demographics.drop_duplicates()\n",
    "total_players = player_demographics.count()[0]\n",
    "pd.DataFrame({\"Total Players\": [total_players]})"
   ]
  },
  {
   "cell_type": "code",
   "execution_count": null,
   "metadata": {},
   "outputs": [],
   "source": [
    "#Purchasing Analysis\n",
    "\n",
    "#Calculations\n",
    "item_count = len(purchase_data[\"Item ID\"].unique())\n",
    "average_item_price = purchase_data[\"Price\"].mean()\n",
    "purchase_count = purchase_data[\"Price\"].count()\n",
    "total_purchase_value = purchase_data[\"Price\"].sum()\n",
    "\n",
    "#Create DataFrame\n",
    "summary_table = pd.DataFrame({\"Number of Unique Items\": item_count,\n",
    "                              \"Average Purchase Price\": [average_item_price],\n",
    "                              \"Number of Purchases\": [purchase_count],\n",
    "                               \"Total Revenue\": [total_purchase_value]})\n",
    "\n",
    "#Print to table\n",
    "summary_table = summary_table.loc[:,[\"Number of Unique Items\", \"Average Purchase Price\", \"Number of Purchases\", \"Total Revenue\"]]\n",
    "summary_table"
   ]
  },
  {
   "cell_type": "code",
   "execution_count": null,
   "metadata": {},
   "outputs": [],
   "source": [
    "#Gender Demographics\n",
    "\n",
    "#Calculations\n",
    "gender_demographics_totals = player_demographics[\"Gender\"].value_counts()\n",
    "gender_demographics_percents = gender_demographics_totals / total_players * 100\n",
    "\n",
    "#Create DataFrame\n",
    "gender_demographics = pd.DataFrame({\"Count of Players\": gender_demographics_totals,\n",
    "                                    \"Percentage of Players\": gender_demographics_percents})\n",
    "\n",
    "#Print to table\n",
    "gender_demographics"
   ]
  },
  {
   "cell_type": "code",
   "execution_count": null,
   "metadata": {},
   "outputs": [],
   "source": [
    "#Purchasing Analysis (Gender)\n",
    "\n",
    "#Calculations\n",
    "gender_purchase_total = purchase_data.groupby([\"Gender\"]).sum()[\"Price\"].rename(\"Total Purchase Value\")\n",
    "gender_average = purchase_data.groupby([\"Gender\"]).mean()[\"Price\"].rename(\"Average Purchase Value\")\n",
    "gender_counts = purchase_data.groupby([\"Gender\"]).count()[\"Price\"].rename(\"Purchase Count\")\n",
    "\n",
    "\n",
    "#Calculate Avg Total Purchase per Person\n",
    "gender_avg_PP = gender_purchase_total / gender_demographics[\"Count of Players\"]\n",
    "\n",
    "#Create DataFrame\n",
    "gender_data = pd.DataFrame({\"Purchase Count\": gender_counts,\n",
    "                            \"Average Purchase price\": gender_average,\n",
    "                            \"Total Purchase Value\": gender_purchase_total,\n",
    "                            \"Avg Purchase per Person by Gender\": gender_avg_PP})\n",
    "\n",
    "\n",
    "#Print to table\n",
    "gender_data"
   ]
  },
  {
   "cell_type": "code",
   "execution_count": null,
   "metadata": {},
   "outputs": [],
   "source": [
    "#Age Demographics\n",
    "\n",
    "#create bins for ages\n",
    "age_bins = [0, 9.90, 14.90, 19.90, 24.90, 29.90, 34.90, 39.90, 99999]\n",
    "group_names = [\"<10\", \"10-14\", \"15-19\", \"20-24\", \"25-29\", \"30-34\", \"35-39\", \"40+\"]\n",
    "\n",
    "#Sort age values into bins\n",
    "purchase_data[\"Age Group\"] = pd.cut(purchase_data[\"Age\"],age_bins, labels=group_names)\n",
    "age_grouped = purchase_data.groupby(\"Age Group\")\n",
    "total_count_age = age_grouped[\"SN\"].nunique()\n",
    "\n",
    "#Calculations\n",
    "age_count = age_grouped[\"Purchase ID\"].count() \n",
    "age_avg = age_grouped[\"Price\"].mean()\n",
    "age_sum = age_grouped[\"Price\"].sum()\n",
    "\n",
    "#Calculate Avg Total Purchase per Person in the age group \n",
    "age_avg_PP = age_sum/total_count_age\n",
    "\n",
    "#Create DataFrame\n",
    "age_demographics = pd.DataFrame({\"Purchase Count\": age_count,\n",
    "                                 \"Average Purchase Price\": age_avg,\n",
    "                                 \"Total Purchase Value\":age_sum,\n",
    "                                 \"Avg Purchase per Person by age\": age_avg_PP})\n",
    "#Print to table\n",
    "age_demographics"
   ]
  },
  {
   "cell_type": "code",
   "execution_count": null,
   "metadata": {},
   "outputs": [],
   "source": [
    "#Top Spenders\n",
    "\n",
    "#Calculations\n",
    "user_count = purchase_data.groupby([\"SN\"]).count()[\"Price\"].rename(\"Purchase Count\")\n",
    "user_average = purchase_data.groupby([\"SN\"]).mean()[\"Price\"].rename(\"Average Purchase Price\")\n",
    "user_total = purchase_data.groupby([\"SN\"]).sum()[\"Price\"].rename(\"Total Purchase Value\")\n",
    "\n",
    "#Create DataFrame\n",
    "user_data = pd.DataFrame({\"Purchase Count\": user_count,\n",
    "                          \"Average Purchase Price\": user_average,\n",
    "                          \"Total Purchase Value\": user_total,})\n",
    "#Print to table\n",
    "user_data.sort_values(\"Total Purchase Value\", ascending=False).head(5)"
   ]
  },
  {
   "cell_type": "code",
   "execution_count": null,
   "metadata": {},
   "outputs": [],
   "source": [
    "#Most Popular Items (purchase count)\n",
    "\n",
    "#Calculations\n",
    "item_count = purchase_data.groupby([\"Item ID\", \"Item Name\"]).count()[\"Price\"].rename(\"Purchase Count\")\n",
    "item_average = purchase_data.groupby([\"Item ID\", \"Item Name\"]).mean()[\"Price\"].rename(\"Average item Price\")\n",
    "item_total = purchase_data.groupby([\"Item ID\", \"Item Name\"]).sum()[\"Price\"].rename(\"Total Purchase Value\")\n",
    "\n",
    "#Create DataFrame\n",
    "user_data = pd.DataFrame({\"Purchase Count\": item_count,\n",
    "                          \"Average item Price\": item_average,\n",
    "                         \"Total Purchase Value\": item_total,})\n",
    "#Print to table\n",
    "user_data.sort_values(\"Purchase Count\", ascending=False).head(5)"
   ]
  },
  {
   "cell_type": "code",
   "execution_count": null,
   "metadata": {},
   "outputs": [],
   "source": [
    "#Most Popular Items (total purchase value)\n",
    "\n",
    "item_count = purchase_data.groupby([\"Item ID\", \"Item Name\"]).count()[\"Price\"].rename(\"Purchase Count\")\n",
    "item_average = purchase_data.groupby([\"Item ID\", \"Item Name\"]).mean()[\"Price\"].rename(\"Average item Price\")\n",
    "item_total = purchase_data.groupby([\"Item ID\", \"Item Name\"]).sum()[\"Price\"].rename(\"Total Purchase Value\")\n",
    "\n",
    "#Create DataFrame\n",
    "user_data = pd.DataFrame({\"Purchase Count\": item_count,\n",
    "                          \"Average item Price\": item_average,\n",
    "                         \"Total Purchase Value\": item_total,})\n",
    "#Print to table\n",
    "user_data.sort_values(\"Total Purchase Value\", ascending=False).head(5)"
   ]
  }
 ],
 "metadata": {
  "kernelspec": {
   "display_name": "Python 3",
   "language": "python",
   "name": "python3"
  },
  "language_info": {
   "codemirror_mode": {
    "name": "ipython",
    "version": 3
   },
   "file_extension": ".py",
   "mimetype": "text/x-python",
   "name": "python",
   "nbconvert_exporter": "python",
   "pygments_lexer": "ipython3",
   "version": "3.7.6"
  }
 },
 "nbformat": 4,
 "nbformat_minor": 4
}
